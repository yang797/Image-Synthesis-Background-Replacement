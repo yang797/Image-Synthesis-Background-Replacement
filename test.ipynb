{
 "cells": [
  {
   "cell_type": "code",
   "id": "f971a6f9-d64f-46db-91f9-bc3b355448cd",
   "metadata": {},
   "source": [
    "from model import Triple_U_Net\n",
    "from model_test import generate_image\n",
    "import os\n",
    "from PIL import Image\n",
    "from visualizor import visualize_image\n",
    "from tqdm import tqdm"
   ],
   "outputs": [],
   "execution_count": null
  },
  {
   "cell_type": "code",
   "execution_count": 2,
   "id": "a890bddc-6028-4eda-98e1-a6d6ced54c0b",
   "metadata": {},
   "outputs": [
    {
     "name": "stderr",
     "output_type": "stream",
     "text": [
      "/root/miniconda3/lib/python3.10/site-packages/torchvision/models/_utils.py:208: UserWarning: The parameter 'pretrained' is deprecated since 0.13 and may be removed in the future, please use 'weights' instead.\n",
      "  warnings.warn(\n",
      "/root/miniconda3/lib/python3.10/site-packages/torchvision/models/_utils.py:223: UserWarning: Arguments other than a weight enum or `None` for 'weights' are deprecated since 0.13 and may be removed in the future. The current behavior is equivalent to passing `weights=VGG19_Weights.IMAGENET1K_V1`. You can also use `weights=VGG19_Weights.DEFAULT` to get the most up-to-date weights.\n",
      "  warnings.warn(msg)\n",
      "100%|██████████| 27/27 [00:02<00:00, 11.48it/s]\n"
     ]
    }
   ],
   "source": [
    "model = Triple_U_Net()\n",
    "\n",
    "# paths for input needed\n",
    "model.load_models(\"input checkpoint (laod data here)\")\n",
    "input_dir = 'input image dict'\n",
    "output_dir = 'output dict'\n",
    "\n",
    "\n",
    "\n",
    "imgs = [f for f in os.listdir(os.path.join(input_dir, 'images')) if f.endswith('.png')]\n",
    "\n",
    "for f in tqdm(imgs):\n",
    "    bg = Image.open(os.path.join(input_dir, 'backgrounds', f)).convert('RGB') \n",
    "    mask = Image.open(os.path.join(input_dir, 'masks', f))\n",
    "    people = Image.open(os.path.join(input_dir, 'people', f))\n",
    "\n",
    "    \n",
    "    composited_img = generate_image(model, mask, bg, people, size=512)\n",
    "    \n",
    "    composited_img.save(os.path.join(output_dir, f))"
   ]
  },
  {
   "cell_type": "code",
   "execution_count": null,
   "id": "cbb04d1b-6d61-4a98-9e2f-0d9ae30dda63",
   "metadata": {},
   "outputs": [],
   "source": [
    "# Visualize the output result if you want\n",
    "# See details function under /utils/visualizor.py\n",
    "\n",
    "visualize_image(input_dir, output_dir, mode='val')"
   ]
  }
 ],
 "metadata": {
  "kernelspec": {
   "display_name": "Python 3 (ipykernel)",
   "language": "python",
   "name": "python3"
  },
  "language_info": {
   "codemirror_mode": {
    "name": "ipython",
    "version": 3
   },
   "file_extension": ".py",
   "mimetype": "text/x-python",
   "name": "python",
   "nbconvert_exporter": "python",
   "pygments_lexer": "ipython3",
   "version": "3.10.8"
  }
 },
 "nbformat": 4,
 "nbformat_minor": 5
}
