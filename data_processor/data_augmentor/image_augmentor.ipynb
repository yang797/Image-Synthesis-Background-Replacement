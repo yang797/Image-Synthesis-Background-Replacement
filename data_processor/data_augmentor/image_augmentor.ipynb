{
 "cells": [
  {
   "cell_type": "code",
   "execution_count": 3,
   "id": "24a2c2f1-724c-4ed9-8602-36abfca62157",
   "metadata": {},
   "outputs": [
    {
     "name": "stderr",
     "output_type": "stream",
     "text": [
      "100%|██████████| 414/414 [01:00<00:00,  6.88it/s]\n"
     ]
    }
   ],
   "source": [
    "from PIL import Image\n",
    "import os\n",
    "from tqdm import tqdm\n",
    "\n",
    "name_files = os.listdir('../autodl-tmp/4_26_new_train_data/images')\n",
    "for name in tqdm(name_files):\n",
    "    if name.endswith('.png'):\n",
    "        base_name = os.path.splitext(os.path.basename(name))[0]\n",
    "    \n",
    "        img = Image.open(os.path.join('../autodl-tmp/4_26_new_train_data/images', name))\n",
    "        for i in range(4):\n",
    "            img.save(os.path.join('../autodl-tmp/4_26_new_train_data_aug/images', f\"{base_name}_aug_{i}.png\"), format=\"PNG\")"
   ]
  },
  {
   "cell_type": "markdown",
   "id": "002f4caf-2149-46bb-b2f1-199d877545fe",
   "metadata": {},
   "source": [
    "## check"
   ]
  },
  {
   "cell_type": "code",
   "execution_count": null,
   "id": "5b5c630f-60b9-4b15-ba59-de2566ef07fa",
   "metadata": {},
   "outputs": [],
   "source": [
    "bgs = os.listdir('../autodl-tmp/train_data_360_540_with_mask/backgrounds')\n",
    "imgs = os.listdir('../autodl-tmp/train_data_360_540_with_mask/images')\n",
    "people = os.listdir('../autodl-tmp/train_data_360_540_with_mask/people')\n",
    "\n",
    "\n",
    "trash = []\n",
    "for i in bgs:\n",
    "    if i in imgs:\n",
    "        pass\n",
    "    else:\n",
    "        trash.append(i)\n",
    "    if i in people:\n",
    "        pass\n",
    "    else:\n",
    "        trash.append(i)\n",
    "print(len(trash))"
   ]
  },
  {
   "cell_type": "code",
   "execution_count": 4,
   "id": "84cf5eb7-b35e-4af8-b026-8f811e4d3f45",
   "metadata": {},
   "outputs": [
    {
     "name": "stdout",
     "output_type": "stream",
     "text": [
      "1998\n"
     ]
    }
   ],
   "source": [
    "print(len(os.listdir('../autodl-tmp/train_data_360_540_with_mask/images')))"
   ]
  },
  {
   "cell_type": "code",
   "execution_count": null,
   "id": "129cd006-6f13-48b7-a973-397d088965e6",
   "metadata": {},
   "outputs": [],
   "source": []
  }
 ],
 "metadata": {
  "kernelspec": {
   "display_name": "Python 3 (ipykernel)",
   "language": "python",
   "name": "python3"
  },
  "language_info": {
   "codemirror_mode": {
    "name": "ipython",
    "version": 3
   },
   "file_extension": ".py",
   "mimetype": "text/x-python",
   "name": "python",
   "nbconvert_exporter": "python",
   "pygments_lexer": "ipython3",
   "version": "3.10.8"
  }
 },
 "nbformat": 4,
 "nbformat_minor": 5
}
