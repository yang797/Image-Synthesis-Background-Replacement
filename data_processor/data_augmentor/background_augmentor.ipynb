{
 "cells": [
  {
   "cell_type": "code",
   "execution_count": 1,
   "id": "4e918a7b-e45a-4afc-a84a-303509ebb771",
   "metadata": {},
   "outputs": [
    {
     "name": "stdout",
     "output_type": "stream",
     "text": [
      "Found 6 images. Generating 2 brightness variations for each.\n"
     ]
    },
    {
     "name": "stderr",
     "output_type": "stream",
     "text": [
      "100%|██████████| 6/6 [00:00<00:00, 30.66it/s]"
     ]
    },
    {
     "name": "stdout",
     "output_type": "stream",
     "text": [
      "Augmentation complete. Results saved to ../test_2_with_mask/backgrounds\n"
     ]
    },
    {
     "name": "stderr",
     "output_type": "stream",
     "text": [
      "\n"
     ]
    }
   ],
   "source": [
    "import cv2\n",
    "import numpy as np\n",
    "import os\n",
    "import random\n",
    "from tqdm import tqdm\n",
    "import argparse\n",
    "\n",
    "\n",
    "def adjust_brightness(image, brightness_factor):\n",
    "    \"\"\"\n",
    "    Adjust the brightness of an image.\n",
    "\n",
    "    Args:\n",
    "        image: Input image (numpy array)\n",
    "        brightness_factor: Factor to adjust brightness (0.5 = 50% darker, 1.5 = 50% brighter)\n",
    "\n",
    "    Returns:\n",
    "        Brightness-adjusted image\n",
    "    \"\"\"\n",
    "    hsv = cv2.cvtColor(image, cv2.COLOR_BGR2HSV)\n",
    "    hsv = hsv.astype(np.float64)\n",
    "\n",
    "    # Scale the V channel\n",
    "    hsv[:, :, 2] = hsv[:, :, 2] * brightness_factor\n",
    "\n",
    "    # Clip values to ensure they're in the valid range\n",
    "    hsv[:, :, 2] = np.clip(hsv[:, :, 2], 0, 255)\n",
    "\n",
    "    hsv = hsv.astype(np.uint8)\n",
    "    return cv2.cvtColor(hsv, cv2.COLOR_HSV2BGR)\n",
    "\n",
    "\n",
    "def random_brightness_augmentation(input_dir, output_dir, num_augmentations=5, brightness_range=(0.5, 1.5)):\n",
    "    \"\"\"\n",
    "    Generate brightness-augmented versions of all images in a directory.\n",
    "\n",
    "    Args:\n",
    "        input_dir: Directory containing original images\n",
    "        output_dir: Directory to save augmented images\n",
    "        num_augmentations: Number of augmented versions to create per image\n",
    "        brightness_range: Tuple of (min_factor, max_factor) for brightness adjustment\n",
    "    \"\"\"\n",
    "    # Create output directory if it doesn't exist\n",
    "    if not os.path.exists(output_dir):\n",
    "        os.makedirs(output_dir)\n",
    "\n",
    "    # Get all image files\n",
    "    image_extensions = ['.jpg', '.jpeg', '.png', '.bmp', '.tif', '.tiff']\n",
    "    image_files = []\n",
    "\n",
    "    input_files = os.listdir(input_dir)\n",
    "    for file in input_files:\n",
    "        ext = os.path.splitext(file)[1].lower()\n",
    "        if ext in image_extensions:\n",
    "            image_files.append(os.path.join(input_dir, file))\n",
    "\n",
    "    if not image_files:\n",
    "        print(f\"No image files found in {input_dir}\")\n",
    "        return\n",
    "\n",
    "    print(f\"Found {len(image_files)} images. Generating {num_augmentations} brightness variations for each.\")\n",
    "\n",
    "    # Process each image\n",
    "    for img_path in tqdm(image_files):\n",
    "        # Load the image\n",
    "        img = cv2.imread(img_path)\n",
    "        if img is None:\n",
    "            print(f\"Could not read image: {img_path}\")\n",
    "            continue\n",
    "\n",
    "        # Get base filename without extension\n",
    "        base_name = os.path.splitext(os.path.basename(img_path))[0]\n",
    "\n",
    "        # Save original image to output directory\n",
    "        # original_output_path = os.path.join(output_dir, f\"{base_name}_original.jpg\")\n",
    "        # cv2.imwrite(original_output_path, img)\n",
    "\n",
    "        # Generate augmented versions\n",
    "        for i in range(num_augmentations):\n",
    "            # Random brightness factor\n",
    "            brightness_factor = random.uniform(brightness_range[0], brightness_range[1])\n",
    "\n",
    "            # Apply brightness adjustment\n",
    "            augmented_img = adjust_brightness(img, brightness_factor)\n",
    "\n",
    "            # Save augmented image\n",
    "            output_path = os.path.join(output_dir, f\"{base_name}_aug_{i}.png\")\n",
    "            cv2.imwrite(output_path, augmented_img)\n",
    "\n",
    "\n",
    "if __name__ == \"__main__\":\n",
    "    input_dir = \"../test_1/backgrounds\"\n",
    "    output_dir = \"../test_2_with_mask/backgrounds\"\n",
    "    num_augmentations = 2\n",
    "    min_brightness = 0.9\n",
    "    max_brightness = 1.2\n",
    "\n",
    "    random_brightness_augmentation(\n",
    "        input_dir,\n",
    "        output_dir,\n",
    "        num_augmentations,\n",
    "        (min_brightness, max_brightness)\n",
    "    )\n",
    "\n",
    "    print(f\"Augmentation complete. Results saved to {output_dir}\")"
   ]
  },
  {
   "cell_type": "code",
   "execution_count": 1,
   "id": "9b9cffa1-8e04-41b9-bafb-888617c7d9c2",
   "metadata": {},
   "outputs": [
    {
     "name": "stderr",
     "output_type": "stream",
     "text": [
      "100%|██████████| 413/413 [01:01<00:00,  6.71it/s]\n"
     ]
    }
   ],
   "source": [
    "from PIL import Image\n",
    "import os\n",
    "from tqdm import tqdm\n",
    "\n",
    "name_files = [f for f in os.listdir('../autodl-tmp/4_26_new_train_data_aug/rgb') if f.endswith('.png')]\n",
    "for name in tqdm(name_files):\n",
    "    if name.endswith('.png'):\n",
    "        base_name = os.path.splitext(os.path.basename(name))[0]\n",
    "    \n",
    "        bg = Image.open(os.path.join('../autodl-tmp/4_26_new_train_data/backgrounds', name))\n",
    "        for i in range(4):\n",
    "            bg.save(os.path.join('../autodl-tmp/4_26_new_train_data_aug/backgrounds', f\"{base_name}_aug_{i}.png\"), format=\"PNG\")"
   ]
  },
  {
   "cell_type": "code",
   "execution_count": 2,
   "id": "c472b5c3-f0fd-4d66-ae06-9f9035277a72",
   "metadata": {},
   "outputs": [
    {
     "name": "stderr",
     "output_type": "stream",
     "text": [
      "100%|██████████| 413/413 [01:42<00:00,  4.02it/s]\n"
     ]
    }
   ],
   "source": [
    "from PIL import Image\n",
    "import os\n",
    "from tqdm import tqdm\n",
    "\n",
    "name_files = [f for f in os.listdir('../autodl-tmp/4_26_new_train_data_aug/rgb') if f.endswith('.png')]\n",
    "for name in tqdm(name_files):\n",
    "    if name.endswith('.png'):\n",
    "        base_name = os.path.splitext(os.path.basename(name))[0]\n",
    "    \n",
    "        img = Image.open(os.path.join('../autodl-tmp/4_26_new_train_data/images', name))\n",
    "        for i in range(4):\n",
    "            bg.save(os.path.join('../autodl-tmp/4_26_new_train_data_aug/images', f\"{base_name}_aug_{i}.png\"), format=\"PNG\")"
   ]
  },
  {
   "cell_type": "code",
   "execution_count": 14,
   "id": "903a2710-bf04-4477-8b48-e64c8eee0227",
   "metadata": {},
   "outputs": [
    {
     "name": "stderr",
     "output_type": "stream",
     "text": [
      "100%|██████████| 40/40 [00:04<00:00,  8.33it/s]\n"
     ]
    }
   ],
   "source": [
    "from PIL import Image\n",
    "import os\n",
    "from tqdm import tqdm\n",
    "\n",
    "name_files = [f for f in os.listdir('../autodl-tmp/4_27_分类数据/逸夫23/3') if f.endswith('.JPG')]\n",
    "for name in tqdm(name_files):\n",
    "    base_name = os.path.splitext(os.path.basename(name))[0]\n",
    "\n",
    "    bg = Image.open('../autodl-tmp/4_27_分类数据/逸夫23/3.JPG')\n",
    "    for i in range(4):\n",
    "        bg.save(os.path.join('../autodl-tmp/4_27_aug/backgrounds', f\"{base_name}_aug_{i}.png\"), format=\"PNG\")"
   ]
  },
  {
   "cell_type": "code",
   "execution_count": null,
   "id": "dec76e7d-f1c5-41d0-9779-c4d9a0e5a148",
   "metadata": {},
   "outputs": [],
   "source": []
  }
 ],
 "metadata": {
  "kernelspec": {
   "display_name": "Python 3 (ipykernel)",
   "language": "python",
   "name": "python3"
  },
  "language_info": {
   "codemirror_mode": {
    "name": "ipython",
    "version": 3
   },
   "file_extension": ".py",
   "mimetype": "text/x-python",
   "name": "python",
   "nbconvert_exporter": "python",
   "pygments_lexer": "ipython3",
   "version": "3.10.8"
  }
 },
 "nbformat": 4,
 "nbformat_minor": 5
}
