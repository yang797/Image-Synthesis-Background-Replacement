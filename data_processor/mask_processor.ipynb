{
 "cells": [
  {
   "cell_type": "code",
   "execution_count": 32,
   "id": "01700f9c-d620-41cd-80cc-f9a53bb4a7c2",
   "metadata": {},
   "outputs": [],
   "source": [
    "from PIL import Image\n",
    "import cv2\n",
    "import os\n",
    "\n",
    "\n",
    "mask_dir = './test/mask'\n",
    "image_dir = './test/image'\n",
    "output_dir = './test/output'\n",
    "\n",
    "for f in ['recovered_mask', 'people', 'background']:\n",
    "    if not os.path.exists(os.path.join(output_dir, f)):\n",
    "        os.makedirs(os.path.join(output_dir, f))\n",
    "\n",
    "for f in os.listdir(mask_dir):\n",
    "    if f.endswith('.png'):\n",
    "        f_img = f.replace('.png', '.tif')\n",
    "        \n",
    "        mask_path = os.path.join(mask_dir, f)\n",
    "        image_path = os.path.join(image_dir, f_img)\n",
    "        \n",
    "        mask_output = os.path.join(output_dir, 'recovered_mask', f)\n",
    "        people_output = os.path.join(output_dir, 'people', f)\n",
    "        bg_output = os.path.join(output_dir, 'background', f)\n",
    "    \n",
    "        \n",
    "        mask = cv2.imread(mask_path, cv2.IMREAD_GRAYSCALE)\n",
    "        img = cv2.imread(image_path, cv2.IMREAD_COLOR)\n",
    "    \n",
    "        # people\n",
    "        mask_3c = cv2.cvtColor(mask, cv2.COLOR_GRAY2BGR)\n",
    "        people = cv2.bitwise_and(img, mask_3c)\n",
    "    \n",
    "        # bg mask\n",
    "        inversed_mask = cv2.bitwise_not(mask)\n",
    "    \n",
    "        # background\n",
    "        inversed_mask_3c = cv2.cvtColor(inversed_mask, cv2.COLOR_GRAY2BGR)\n",
    "        background = cv2.bitwise_and(img, inversed_mask_3c)\n",
    "    \n",
    "        \n",
    "        cv2.imwrite(mask_output, inversed_mask)\n",
    "        cv2.imwrite(people_output, people)\n",
    "        cv2.imwrite(bg_output, background)\n",
    "\n",
    "\n"
   ]
  },
  {
   "cell_type": "code",
   "execution_count": null,
   "id": "a359d308-4ac8-444b-803b-334a90c22e16",
   "metadata": {},
   "outputs": [],
   "source": []
  }
 ],
 "metadata": {
  "kernelspec": {
   "display_name": "graph_matting",
   "language": "python",
   "name": "graph_matting"
  },
  "language_info": {
   "codemirror_mode": {
    "name": "ipython",
    "version": 3
   },
   "file_extension": ".py",
   "mimetype": "text/x-python",
   "name": "python",
   "nbconvert_exporter": "python",
   "pygments_lexer": "ipython3",
   "version": "3.9.22"
  }
 },
 "nbformat": 4,
 "nbformat_minor": 5
}
