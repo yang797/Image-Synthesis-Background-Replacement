{
 "cells": [
  {
   "cell_type": "markdown",
   "metadata": {},
   "source": [
    "using rembg with briefnet-portrait"
   ]
  },
  {
   "cell_type": "code",
   "execution_count": null,
   "metadata": {},
   "outputs": [
    {
     "name": "stderr",
     "output_type": "stream",
     "text": [
      "Processing images:   0%|          | 6/2233 [02:11<12:26:45, 20.12s/image]"
     ]
    }
   ],
   "source": [
    "import os\n",
    "from rembg import remove, new_session\n",
    "from PIL import Image\n",
    "from tqdm import tqdm\n",
    "\n",
    "# 设置输入图像文件夹路径\n",
    "input_folder = 'raw_image/folder_1'\n",
    "# 设置输出图像文件夹路径\n",
    "output_folder = 'segmented_images/test'\n",
    "\n",
    "# 自定义使用的模型\n",
    "model_name = \"birefnet-portrait\"\n",
    "session = new_session(model_name)\n",
    "\n",
    "# 检查输出文件夹是否存在，如果不存在则创建\n",
    "if not os.path.exists(output_folder):\n",
    "    os.makedirs(output_folder)\n",
    "\n",
    "# 获取输入文件夹中的所有图像文件列表\n",
    "image_files = [f for f in os.listdir(input_folder) if f.endswith(('.jpg', '.png', '.jpeg', '.tif'))]\n",
    "\n",
    "# 使用 tqdm 包装文件列表，显示进度条\n",
    "for file_name in tqdm(image_files, desc=\"Processing images\", unit=\"image\"):\n",
    "    # 构建输入图像文件的完整路径\n",
    "    input_file_path = os.path.join(input_folder, file_name)\n",
    "    # 打开图像\n",
    "    input_image = Image.open(input_file_path)\n",
    "    # 去除背景\n",
    "    output_image = remove(\n",
    "        input_image,\n",
    "        session=session,\n",
    "        alpha_matting=True,\n",
    "        alpha_matting_foreground_threshold=270,\n",
    "        alpha_matting_background_threshold=20,\n",
    "        alpha_matting_erode_size=11,\n",
    "        only_mask=True\n",
    "    )\n",
    "    # 构建输出图像文件的完整路径，强制使用 .png 扩展名\n",
    "    output_file_name = os.path.splitext(file_name)[0] + '.png'\n",
    "    output_file_path = os.path.join(output_folder, output_file_name)\n",
    "    # 保存处理后的图像\n",
    "    output_image.save(output_file_path)"
   ]
  }
 ],
 "metadata": {
  "kernelspec": {
   "display_name": "venv",
   "language": "python",
   "name": "python3"
  },
  "language_info": {
   "codemirror_mode": {
    "name": "ipython",
    "version": 3
   },
   "file_extension": ".py",
   "mimetype": "text/x-python",
   "name": "python",
   "nbconvert_exporter": "python",
   "pygments_lexer": "ipython3",
   "version": "3.12.8"
  }
 },
 "nbformat": 4,
 "nbformat_minor": 2
}
